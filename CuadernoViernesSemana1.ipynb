{
 "cells": [
  {
   "cell_type": "markdown",
   "id": "1b86ab50",
   "metadata": {},
   "source": [
    "# 2. Variables, tipos y operaciones"
   ]
  },
  {
   "cell_type": "markdown",
   "id": "7d26d355",
   "metadata": {},
   "source": [
    "## Tipos y conversiones"
   ]
  },
  {
   "cell_type": "code",
   "execution_count": null,
   "id": "cb8f034a",
   "metadata": {},
   "outputs": [
    {
     "name": "stdout",
     "output_type": "stream",
     "text": [
      "Pepe 38 Jaén\n",
      "38.0\n",
      "<class 'str'> <class 'float'> <class 'str'>\n",
      "Pepe 38.0\n"
     ]
    }
   ],
   "source": [
    "nombre = \"Pepe\"\n",
    "edad = 38\n",
    "ciudad = \"Jaén\"\n",
    "\n",
    "print(nombre, edad, ciudad)\n",
    "edad = float(edad)\n",
    "print(edad)\n",
    "print(type(nombre), type(edad), type(ciudad))\n",
    "\n",
    "print(nombre + \" \" + str(edad))"
   ]
  },
  {
   "cell_type": "code",
   "execution_count": 7,
   "id": "930ba6af",
   "metadata": {},
   "outputs": [
    {
     "name": "stdout",
     "output_type": "stream",
     "text": [
      "Mi edad es 38.0\n",
      "20\n"
     ]
    }
   ],
   "source": [
    "# De número a cadena\n",
    "print(\"Mi edad es \" + str(edad))\n",
    "\n",
    "# De cadena a número\n",
    "num = int(\"10\")\n",
    "print(num * 2)"
   ]
  },
  {
   "cell_type": "markdown",
   "id": "2df77682",
   "metadata": {},
   "source": [
    "## Operaciones aritméticas"
   ]
  },
  {
   "cell_type": "code",
   "execution_count": 16,
   "id": "0aef8198",
   "metadata": {},
   "outputs": [
    {
     "name": "stdout",
     "output_type": "stream",
     "text": [
      "La suma es: {18}\n",
      "La resta es: {2}\n",
      "La multiplicación es: {80}\n",
      "La división es: {1.25}\n",
      "La división entera es: {1}\n",
      "La potencia es: {100000000}\n",
      "El módulo es: {2}\n"
     ]
    }
   ],
   "source": [
    "a = 10\n",
    "b = 8\n",
    "\n",
    "suma = {a + b}\n",
    "print(f\"La suma es:\", suma)\n",
    "\n",
    "resta = {a - b}\n",
    "print(f\"La resta es:\", resta)\n",
    "\n",
    "multiplicacion = {a * b}\n",
    "print(f\"La multiplicación es:\", multiplicacion)\n",
    "\n",
    "division = {a / b}\n",
    "print(f\"La división es:\", division)\n",
    "\n",
    "divisionEntera = {a // b}\n",
    "print(f\"La división entera es:\", divisionEntera)\n",
    "\n",
    "potencia = {a ** b}\n",
    "print(f\"La potencia es:\", potencia)\n",
    "\n",
    "modulo = {a % b}\n",
    "print(f\"El módulo es:\", modulo)\n",
    "\n"
   ]
  },
  {
   "cell_type": "markdown",
   "id": "d3556fd8",
   "metadata": {},
   "source": [
    "## Métodos de cadenas"
   ]
  },
  {
   "cell_type": "code",
   "execution_count": 17,
   "id": "8df61121",
   "metadata": {},
   "outputs": [],
   "source": [
    "mensaje = \" hola mundo en python\""
   ]
  },
  {
   "cell_type": "code",
   "execution_count": null,
   "id": "c7f771c0",
   "metadata": {},
   "outputs": [
    {
     "name": "stdout",
     "output_type": "stream",
     "text": [
      "Mayúsculas HOLA MUNDO EN PYTHON\n",
      "Sin espacios: hola mundo en python\n",
      "Empieza con ' hola': True\n",
      "Reemplazar:  hola mundo en Jupyter\n",
      "Dividir en palabras: ['hola', 'mundo', 'en', 'python']\n"
     ]
    }
   ],
   "source": [
    "mayus = mensaje.upper()\n",
    "print(\"Mayúsculas\" + mayus)\n",
    "\n",
    "sin_espacios = mensaje.strip()\n",
    "print(\"Sin espacios: \" + sin_espacios)\n",
    "\n",
    "empieza_con = mensaje.startswith(\" hola\")\n",
    "print(\"Empieza con ' hola':\", empieza_con)\n",
    "\n",
    "reemplazar = mensaje.replace(\"python\", \"Jupyter\")\n",
    "print(\"Reemplazar: \" + reemplazar)\n",
    "\n",
    "dividir_en_palabras = mensaje.split()\n",
    "print(\"Dividir en palabras:\", dividir_en_palabras)"
   ]
  },
  {
   "cell_type": "markdown",
   "id": "7c650ee7",
   "metadata": {},
   "source": [
    "## Entrada de usuario y suma"
   ]
  },
  {
   "cell_type": "code",
   "execution_count": 24,
   "id": "7ea3eeac",
   "metadata": {},
   "outputs": [
    {
     "name": "stdout",
     "output_type": "stream",
     "text": [
      "La suma de 4 y 5 es: {9}\n"
     ]
    }
   ],
   "source": [
    "num1 = int(input(\"Introduce el primer número: \"))\n",
    "num2 = int(input(\"Introduce el segundo número: \"))\n",
    "\n",
    "print(f\"La suma de\", num1, \"y\", num2, \"es:\", {num1 + num2})"
   ]
  },
  {
   "cell_type": "markdown",
   "id": "96a573d5",
   "metadata": {},
   "source": [
    "# 3. Cadenas de texto"
   ]
  },
  {
   "cell_type": "markdown",
   "id": "9f0bc444",
   "metadata": {},
   "source": [
    "## Formateo de cadenas"
   ]
  },
  {
   "cell_type": "code",
   "execution_count": 25,
   "id": "3a93e913",
   "metadata": {},
   "outputs": [
    {
     "name": "stdout",
     "output_type": "stream",
     "text": [
      "Hola me llamo Pepe\n",
      "Hola me llamo Pepe y tengo 38 años\n"
     ]
    }
   ],
   "source": [
    "nombre = \"Pepe\"\n",
    "edad = 38\n",
    "\n",
    "# Concatenación\n",
    "print(\"Hola me llamo \" + nombre)\n",
    "\n",
    "# format()\n",
    "print(\"Hola me llamo {} y tengo {} años\".format(nombre, edad))"
   ]
  },
  {
   "cell_type": "markdown",
   "id": "708c39db",
   "metadata": {},
   "source": [
    "# 4. Final"
   ]
  },
  {
   "cell_type": "markdown",
   "id": "0aff41b4",
   "metadata": {},
   "source": [
    "## Formateo de cadenas y uso de int"
   ]
  },
  {
   "cell_type": "code",
   "execution_count": 26,
   "id": "ddeb25e3",
   "metadata": {},
   "outputs": [
    {
     "name": "stdout",
     "output_type": "stream",
     "text": [
      "El precio del libro es de 29.99 euros.\n",
      "El precio del libro es de 29.99 euros.\n",
      "El precio del libro es de 29.99 euros.\n"
     ]
    }
   ],
   "source": [
    "producto = \"libro\"\n",
    "precio = 29.99\n",
    "\n",
    "# Concatenación\n",
    "print(\"El precio del \" + producto + \" es de \" + str(precio) + \" euros.\")\n",
    "\n",
    "# format\n",
    "print(\"El precio del {} es de {} euros.\".format(producto, precio))\n",
    "\n",
    "# f-string\n",
    "print(f\"El precio del {producto} es de {precio} euros.\")\n"
   ]
  },
  {
   "cell_type": "markdown",
   "id": "d44154d3",
   "metadata": {},
   "source": [
    "## Combinación de variables"
   ]
  },
  {
   "cell_type": "code",
   "execution_count": 29,
   "id": "c1529148",
   "metadata": {},
   "outputs": [
    {
     "name": "stdout",
     "output_type": "stream",
     "text": [
      "Has comprado: libros Precio unitario: 29.99 euros.\n",
      "HAS COMPRADO: LIBROS PRECIO UNITARIO: 29.99 EUROS.\n"
     ]
    }
   ],
   "source": [
    "producto = \"libro\"\n",
    "precio = 29.99\n",
    "cantidad = 3\n",
    "\n",
    "total = precio * cantidad\n",
    "ticket = f\"Has comprado: {producto}s Precio unitario: {precio} euros.\"\n",
    "\n",
    "print(ticket)\n",
    "print(ticket.upper())"
   ]
  },
  {
   "cell_type": "markdown",
   "id": "680973f5",
   "metadata": {},
   "source": [
    "## Temperatura"
   ]
  },
  {
   "cell_type": "code",
   "execution_count": 30,
   "id": "1b097128",
   "metadata": {},
   "outputs": [
    {
     "name": "stdout",
     "output_type": "stream",
     "text": [
      "23 grados Celsius son 73.4 grados Fahrenheit.\n"
     ]
    }
   ],
   "source": [
    "celsius = 23\n",
    "fahrenheit = (celsius * 9/5) + 32\n",
    "\n",
    "print(f\"{celsius} grados Celsius son {fahrenheit} grados Fahrenheit.\")"
   ]
  },
  {
   "cell_type": "markdown",
   "id": "eaa290d5",
   "metadata": {},
   "source": [
    "## Promedio de notas"
   ]
  },
  {
   "cell_type": "code",
   "execution_count": 31,
   "id": "c67cb107",
   "metadata": {},
   "outputs": [
    {
     "name": "stdout",
     "output_type": "stream",
     "text": [
      "El promedio de las notas es: 7.33\n"
     ]
    }
   ],
   "source": [
    "nota1 = 7.5\n",
    "nota2 = 8.0\n",
    "nota3 = 6.5\n",
    "\n",
    "promedio = (nota1 + nota2 + nota3) / 3\n",
    "print(f\"El promedio de las notas es: {round(promedio,2)}\")"
   ]
  },
  {
   "cell_type": "markdown",
   "id": "0ae91fdb",
   "metadata": {},
   "source": [
    "# 6. Mini proyecto: Automatización con Bash y Python"
   ]
  }
 ],
 "metadata": {
  "kernelspec": {
   "display_name": "Python 3",
   "language": "python",
   "name": "python3"
  },
  "language_info": {
   "codemirror_mode": {
    "name": "ipython",
    "version": 3
   },
   "file_extension": ".py",
   "mimetype": "text/x-python",
   "name": "python",
   "nbconvert_exporter": "python",
   "pygments_lexer": "ipython3",
   "version": "3.13.7"
  }
 },
 "nbformat": 4,
 "nbformat_minor": 5
}
